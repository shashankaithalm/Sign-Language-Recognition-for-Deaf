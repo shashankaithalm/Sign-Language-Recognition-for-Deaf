{
 "cells": [
  {
   "cell_type": "code",
   "execution_count": 8,
   "id": "3c84f2bb-d900-47ef-95b3-bb680828d970",
   "metadata": {},
   "outputs": [
    {
     "name": "stdout",
     "output_type": "stream",
     "text": [
      "Training set shapes - X: (800, 42), Y: (800,)\n",
      "Testing set shapes - X: (200, 42), Y: (200,)\n"
     ]
    }
   ],
   "source": [
    "import pickle\n",
    "import numpy as np\n",
    "\n",
    "def custom_train_test_split(data, labels, test_size=0.2, random_state=None):\n",
    "    if random_state:\n",
    "        np.random.seed(random_state)\n",
    "\n",
    "    # Shuffle indices\n",
    "    indices = np.arange(len(data))\n",
    "    np.random.shuffle(indices)\n",
    "\n",
    "    # Calculate the number of samples for the test set\n",
    "    test_samples = int(len(data) * test_size)\n",
    "\n",
    "    # Split indices into training and testing sets\n",
    "    test_indices, train_indices = indices[:test_samples], indices[test_samples:]\n",
    "\n",
    "    # Create training and testing sets\n",
    "    x_train, x_test = data[train_indices], data[test_indices]\n",
    "    y_train, y_test = labels[train_indices], labels[test_indices]\n",
    "\n",
    "    return x_train, x_test, y_train, y_test\n",
    "\n",
    "# Load data\n",
    "data_dict = pickle.load(open('./data.pickle', 'rb'))\n",
    "data = np.asarray(data_dict['data'])\n",
    "labels = np.asarray(data_dict['labels'])\n",
    "\n",
    "# Convert labels to integers\n",
    "label_mapping = {label: idx for idx, label in enumerate(np.unique(labels))}\n",
    "int_labels = np.array([label_mapping[label] for label in labels])\n",
    "\n",
    "# Split the data\n",
    "x_train, x_test, y_train, y_test = custom_train_test_split(data, int_labels, test_size=0.2, random_state=42)\n",
    "\n",
    "# Your model training code goes here\n",
    "\n",
    "# For demonstration, printing the shapes of the resulting sets\n",
    "print(\"Training set shapes - X: {}, Y: {}\".format(x_train.shape, y_train.shape))\n",
    "print(\"Testing set shapes - X: {}, Y: {}\".format(x_test.shape, y_test.shape))\n"
   ]
  },
  {
   "cell_type": "code",
   "execution_count": 10,
   "id": "d6dde9f7-9a1b-4d05-ae10-1bd3b33843fd",
   "metadata": {},
   "outputs": [
    {
     "name": "stdout",
     "output_type": "stream",
     "text": [
      "Training Accuracy: 98.5%\n",
      "Testing Accuracy: 98.5%\n"
     ]
    }
   ],
   "source": [
    "import pickle\n",
    "from sklearn.ensemble import RandomForestClassifier\n",
    "from sklearn.metrics import accuracy_score, confusion_matrix, classification_report\n",
    "from sklearn.model_selection import StratifiedKFold\n",
    "import numpy as np\n",
    "\n",
    "# Load data\n",
    "data_dict = pickle.load(open('./data.pickle', 'rb'))\n",
    "data = np.asarray(data_dict['data'])\n",
    "labels = np.asarray(data_dict['labels'])\n",
    "\n",
    "# Convert labels to integers\n",
    "label_mapping = {label: idx for idx, label in enumerate(np.unique(labels))}\n",
    "int_labels = np.array([label_mapping[label] for label in labels])\n",
    "\n",
    "# Use StratifiedKFold for splitting\n",
    "stratified_kfold = StratifiedKFold(n_splits=5, shuffle=True, random_state=42)\n",
    "\n",
    "for train_index, test_index in stratified_kfold.split(data, int_labels):\n",
    "    x_train, x_test = data[train_index], data[test_index]\n",
    "    y_train, y_test = int_labels[train_index], int_labels[test_index]\n",
    "\n",
    "# Train the model\n",
    "model = RandomForestClassifier(n_estimators=100, random_state=42)\n",
    "model.fit(x_train, y_train)\n",
    "\n",
    "# Print training accuracy\n",
    "train_predictions = model.predict(x_train)\n",
    "train_accuracy = accuracy_score(train_predictions, y_train)\n",
    "print('Training Accuracy: {}%'.format(train_accuracy * 100))\n",
    "\n",
    "# Make predictions on the test set\n",
    "y_predict = model.predict(x_test)\n",
    "\n",
    "# Evaluate the model\n",
    "test_accuracy = accuracy_score(y_predict, y_test)\n",
    "print('Testing Accuracy: {}%'.format(test_accuracy * 100))\n",
    "\n",
    "# Save the model\n",
    "with open('model.p', 'wb') as f:\n",
    "    pickle.dump({'model': model}, f)\n"
   ]
  },
  {
   "cell_type": "code",
   "execution_count": null,
   "id": "76ba2b6f-41af-44e4-b2be-642f2a4f50cb",
   "metadata": {},
   "outputs": [],
   "source": []
  }
 ],
 "metadata": {
  "kernelspec": {
   "display_name": "Python 3 (ipykernel)",
   "language": "python",
   "name": "python3"
  },
  "language_info": {
   "codemirror_mode": {
    "name": "ipython",
    "version": 3
   },
   "file_extension": ".py",
   "mimetype": "text/x-python",
   "name": "python",
   "nbconvert_exporter": "python",
   "pygments_lexer": "ipython3",
   "version": "3.11.5"
  }
 },
 "nbformat": 4,
 "nbformat_minor": 5
}
